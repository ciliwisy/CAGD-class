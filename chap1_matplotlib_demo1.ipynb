{
 "cells": [
  {
   "cell_type": "markdown",
   "id": "b9b760e9-38ea-4fc7-9047-18344302f864",
   "metadata": {},
   "source": [
    "# 展示使用matplotlib进行曲线可视化的基本代码 "
   ]
  },
  {
   "cell_type": "markdown",
   "id": "adf92d66-23e9-46bf-866a-a435e5b6b5b5",
   "metadata": {},
   "source": [
    "### Python+Matplotlib库的简单使用(无交互) "
   ]
  },
  {
   "cell_type": "code",
   "execution_count": 1,
   "id": "0aedbc3f-e7a5-4d5b-9981-e2cd55cde775",
   "metadata": {
    "tags": []
   },
   "outputs": [
    {
     "data": {
      "text/plain": [
       "[<matplotlib.lines.Line2D at 0x1e6bdd3f070>]"
      ]
     },
     "execution_count": 1,
     "metadata": {},
     "output_type": "execute_result"
    },
    {
     "data": {
      "image/png": "[encoded data removed]",
      "text/plain": [
       "<Figure size 432x288 with 1 Axes>"
      ]
     },
     "metadata": {
      "needs_background": "light"
     },
     "output_type": "display_data"
    }
   ],
   "source": [
    "import matplotlib.pyplot as plt\n",
    "%matplotlib inline\n",
    "import numpy as np\n",
    "\n",
    "# np.set_printoptions(precision=2) #设置小数位置为3位\n",
    "# plt.rcParams['font.sans-serif'] = ['SimHei']  # 用来正常显示中文标签\n",
    "# plt.rcParams['axes.unicode_minus'] = False  # 用来正常显示负号\n",
    "\n",
    "x=[1,2,3,4,5]\n",
    "y = [1,6,3,2,5]\n",
    "\n",
    "plt.scatter(x,y,c='b')\n",
    "plt.plot(x,y,'r')"
   ]
  },
  {
   "cell_type": "markdown",
   "id": "22188eb8-cce5-40f6-abdf-fbdd7d867d08",
   "metadata": {},
   "source": [
    "### 交互1：鼠标点击，增加新的点"
   ]
  },
  {
   "cell_type": "code",
   "execution_count": 4,
   "id": "5635485f-175f-427f-8558-170ffb53fe65",
   "metadata": {
    "tags": []
   },
   "outputs": [
    {
     "name": "stdout",
     "output_type": "stream",
     "text": [
      "on click2 is pressed\n",
      "coords:  590 725 2.1838709677419357 36.238095238095234\n",
      "(6, 2)\n",
      "on click2 is pressed\n",
      "coords:  907 827 3.310483870967742 41.11904761904762\n",
      "(7, 2)\n",
      "on click2 is pressed\n",
      "coords:  1185 610 4.29516129032258 30.761904761904763\n",
      "(8, 2)\n"
     ]
    }
   ],
   "source": [
    "%matplotlib qt5 \n",
    "# ok 但不是嵌入式的\n",
    "\n",
    "import matplotlib.pyplot as plt\n",
    "import numpy as np\n",
    "\n",
    "x=[1,2,3,4,5]\n",
    "y = [10,20,30,40,50]\n",
    "\n",
    "fig,ax = plt.subplots(nrows=1,ncols=1)\n",
    "\n",
    "control_scatter = 0\n",
    "constrol_plot = 0\n",
    "\n",
    "def drawOP():\n",
    "    global constrol_plot,control_scatter\n",
    "    control_scatter = ax.scatter(x,y,c='b')\n",
    "    constrol_plot = ax.plot(x,y,'r')\n",
    "drawOP()\n",
    "\n",
    "\n",
    "\n",
    "def onclick2(event):\n",
    "    global ax,x,y,control_scatter,control_plot\n",
    "    print('on click2 is pressed')\n",
    "    print('coords: ',event.x, event.y, event.xdata, event.ydata)\n",
    "    x.append(event.xdata)\n",
    "    y.append(event.ydata)\n",
    "    \n",
    "    pts = np.array([x,y]).transpose()\n",
    "#     print(pts.shape)\n",
    "    control_scatter.set_offsets(pts) # set_offsets  输入数据是[N,2] \n",
    "    \n",
    "    fig.canvas.draw_idle()\n",
    "    \n",
    "fig.canvas.mpl_connect('button_press_event', onclick2)\n",
    "\n",
    "plt.show()"
   ]
  },
  {
   "cell_type": "markdown",
   "id": "75759f94-9282-46ac-9c29-4bbb0c31451f",
   "metadata": {},
   "source": [
    "![事件列表](./交互绘图事件列表.png)"
   ]
  },
  {
   "cell_type": "markdown",
   "id": "ae9df540-e758-42e8-b664-2b70cbb2347a",
   "metadata": {},
   "source": [
    "![事件属性](./交互绘图事件属性.png)"
   ]
  },
  {
   "cell_type": "code",
   "execution_count": 3,
   "id": "8a6ab298-6a89-4090-b71e-e8e9134de7f8",
   "metadata": {},
   "outputs": [
    {
     "name": "stdout",
     "output_type": "stream",
     "text": [
      "single click: button=1, x=400, y=402, xdata=2.193070, ydata=33.294334\n",
      "single release: button=1, x=400, y=402, xdata=2.193070, ydata=33.294334\n",
      "ptid is None\n",
      "single click: button=1, x=1572, y=847, xdata=2.996016, ydata=30.114475\n",
      "single release: button=1, x=1150, y=1190, xdata=2.215313, ydata=41.995585\n",
      "ptid: 2\n",
      "single click: button=1, x=1540, y=1295, xdata=2.935962, ydata=45.637969\n",
      "single release: button=1, x=1620, y=1355, xdata=3.083787, ydata=47.719331\n",
      "ptid is None\n",
      "single click: button=1, x=2112, y=1132, xdata=3.993837, ydata=40.000946\n",
      "single release: button=1, x=2200, y=950, xdata=0.762618, ydata=0.583412\n",
      "ptid: 3\n",
      "single click: button=1, x=2195, y=950, xdata=4.146282, ydata=33.670136\n",
      "single release: button=1, x=1992, y=912, xdata=3.772099, ydata=32.369284\n",
      "ptid: 3\n",
      "single click: button=1, x=1995, y=917, xdata=3.776719, ydata=32.542731\n",
      "single release: button=1, x=2045, y=845, xdata=3.869109, ydata=30.027751\n",
      "ptid: 3\n"
     ]
    }
   ],
   "source": [
    "def searchpoint(x,y,xdata,ydata,epison=0.01):\n",
    "    datalen = len(x)\n",
    "    ptid = None\n",
    "    for k in range(datalen):\n",
    "        if np.abs(x[k]- xdata) < epison and np.abs(y[k] - ydata) < epison:\n",
    "            ptid = k\n",
    "            break\n",
    "        \n",
    "    return ptid\n",
    "\n",
    "g_ptid = None\n",
    "def onclick(event):\n",
    "    print('%s click: button=%d, x=%d, y=%d, xdata=%f, ydata=%f' %\n",
    "          ('double' if event.dblclick else 'single', event.button,\n",
    "           event.x, event.y, event.xdata, event.ydata))\n",
    "    global g_ptid\n",
    "    g_ptid = searchpoint(x,y,event.xdata,event.ydata,epison=0.5)\n",
    "\n",
    "cid = fig.canvas.mpl_connect('button_press_event', onclick)\n",
    "\n",
    "def onrelease(event):\n",
    "    print('%s release: button=%d, x=%d, y=%d, xdata=%f, ydata=%f' %\n",
    "          ('double' if event.dblclick else 'single', event.button,\n",
    "           event.x, event.y, event.xdata, event.ydata))\n",
    "    global g_ptid\n",
    "    if None != g_ptid:\n",
    "        print('ptid:',g_ptid)\n",
    "    else:\n",
    "        print('ptid is None')\n",
    "cid = fig.canvas.mpl_connect('button_release_event',onrelease)\n",
    "\n",
    "def updatedata(x,y,ptid,nx,ny):\n",
    "    x[ptid] = nx\n",
    "    y[ptid] = ny\n",
    "\n",
    "def onmousemove(event):\n",
    "    if event.button == None:\n",
    "        return\n",
    "    global g_ptid\n",
    "#     print('%s mouse move: button=%d, x=%d, y=%d, xdata=%f, ydata=%f' %\n",
    "#           ('double' if event.dblclick else 'single', event.button,\n",
    "#            event.x, event.y, event.xdata, event.ydata))\n",
    "    if None == g_ptid:\n",
    "        return\n",
    "    \n",
    "    updatedata(x,y,g_ptid,event.xdata,event.ydata)\n",
    "    ax.cla()\n",
    "    drawOP()\n",
    "    fig.canvas.draw_idle()\n",
    "    \n",
    "    \n",
    "cid = fig.canvas.mpl_connect('motion_notify_event',onmousemove)\n",
    "\n",
    "# 其他交互事件：key_press_event，key_release_event,scroll_event\n",
    "\n"
   ]
  },
  {
   "cell_type": "code",
   "execution_count": null,
   "id": "b70b356c-dc19-4b32-85d9-f38efe2af9de",
   "metadata": {},
   "outputs": [],
   "source": []
  }
 ],
 "metadata": {
  "kernelspec": {
   "display_name": "Python 3",
   "language": "python",
   "name": "python3"
  },
  "language_info": {
   "codemirror_mode": {
    "name": "ipython",
    "version": 3
   },
   "file_extension": ".py",
   "mimetype": "text/x-python",
   "name": "python",
   "nbconvert_exporter": "python",
   "pygments_lexer": "ipython3",
   "version": "3.8.8"
  }
 },
 "nbformat": 4,
 "nbformat_minor": 5
}
