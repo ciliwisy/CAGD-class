{
 "cells": [
  {
   "cell_type": "markdown",
   "id": "d9a97ee5-1faf-41fb-9860-d9aab09d0b61",
   "metadata": {},
   "source": [
    "# 交互式geomdl "
   ]
  },
  {
   "cell_type": "markdown",
   "id": "40a0521e-face-40b1-8cb0-d57e01456df1",
   "metadata": {},
   "source": [
    "### 由geomdl计算，借助matplotlib的交互实现"
   ]
  },
  {
   "cell_type": "code",
   "id": "bfec55ae-4312-4f58-8f17-68100d2d9923",
   "metadata": {
    "ExecuteTime": {
     "end_time": "2025-03-10T11:29:22.675378Z",
     "start_time": "2025-03-10T11:29:22.148806Z"
    }
   },
   "source": [
    "from geomdl import BSpline\n",
    "from geomdl import evaluators\n",
    "\n",
    "# Create the curve instance\n",
    "crv = BSpline.Curve()\n",
    "\n",
    "# Set degree\n",
    "crv.degree = 3\n",
    "\n",
    "# Set control points\n",
    "crv.ctrlpts = [[1, 0], [1, 1], [0, 1],[0,0],[1,-0.5],[0.5,0.5]]\n",
    "\n",
    "# Set knot vector\n",
    "crv.knotvector = [0, 0, 0,0.25,0.5,0.75,1,1,1,1]\n",
    "\n",
    "crv.delta = 0.01\n",
    "# crv.sample_size = 100\n",
    "\n",
    "# crv.evaluator = evaluators.CurveEvaluator2()\n",
    "crv.evaluate()\n",
    "\n",
    "import numpy as np\n",
    "\n",
    "curvePts = crv.evalpts\n",
    "print(len(curvePts))\n",
    "\n",
    "curvePts = np.array(curvePts)\n",
    "\n",
    "import matplotlib.pyplot as plt\n",
    "%matplotlib inline\n",
    "\n",
    "crvCtlPts = np.array(crv.ctrlpts)\n",
    "\n",
    "fig,ax = plt.subplots()\n",
    "scatter1 = ax.scatter(crvCtlPts[:,0],crvCtlPts[:,1])\n",
    "plot1 = ax.plot(crvCtlPts[:,0],crvCtlPts[:,1])\n",
    "\n",
    "scatter2 = ax.scatter(curvePts[:,0],curvePts[:,1],s = 20,c=range(curvePts.shape[0]),cmap='jet')\n",
    "plot2 = ax.plot(curvePts[:,0],curvePts[:,1])\n",
    "fig.colorbar(scatter2)"
   ],
   "outputs": [
    {
     "ename": "ModuleNotFoundError",
     "evalue": "No module named 'geomdl'",
     "output_type": "error",
     "traceback": [
      "\u001B[1;31m---------------------------------------------------------------------------\u001B[0m",
      "\u001B[1;31mModuleNotFoundError\u001B[0m                       Traceback (most recent call last)",
      "Cell \u001B[1;32mIn[1], line 1\u001B[0m\n\u001B[1;32m----> 1\u001B[0m \u001B[38;5;28;01mfrom\u001B[39;00m \u001B[38;5;21;01mgeomdl\u001B[39;00m \u001B[38;5;28;01mimport\u001B[39;00m BSpline\n\u001B[0;32m      2\u001B[0m \u001B[38;5;28;01mfrom\u001B[39;00m \u001B[38;5;21;01mgeomdl\u001B[39;00m \u001B[38;5;28;01mimport\u001B[39;00m evaluators\n\u001B[0;32m      4\u001B[0m \u001B[38;5;66;03m# Create the curve instance\u001B[39;00m\n",
      "\u001B[1;31mModuleNotFoundError\u001B[0m: No module named 'geomdl'"
     ]
    }
   ],
   "execution_count": 1
  },
  {
   "cell_type": "code",
   "id": "9b4112e2-537f-4eb4-85ee-7f05a2ef84c0",
   "metadata": {
    "ExecuteTime": {
     "end_time": "2025-03-10T11:29:22.677746Z",
     "start_time": "2025-03-10T11:29:22.676528Z"
    }
   },
   "source": [
    "%matplotlib qt5 \n",
    "# ok 但不是嵌入式的\n",
    "\n",
    "import matplotlib.pyplot as plt\n",
    "import numpy as np\n",
    "\n",
    "np.set_printoptions(precision=2) #设置小数位置为3位\n",
    "plt.rcParams['font.sans-serif'] = ['SimHei']  # 用来正常显示中文标签\n",
    "plt.rcParams['axes.unicode_minus'] = False  # 用来正常显示负号\n",
    "\n",
    "fig,ax = plt.subplots(nrows=1,ncols=1)\n",
    "\n",
    "x = curvePts[:,0]\n",
    "y = curvePts[:,1]\n",
    "\n",
    "cx = crvCtlPts[:,0]\n",
    "cy = crvCtlPts[:,1]\n",
    "\n",
    "# 控制多边形的图元\n",
    "scatter_cp = ax.scatter(cx,cy,c='r')\n",
    "plot_cp, = ax.plot(cx,cy,'r')\n",
    "\n",
    "# 曲线图元\n",
    "scatter_curve = ax.scatter(x,y,c=range(curvePts.shape[0]),cmap='jet')\n",
    "plot_curve, = ax.plot(x,y,'b')\n",
    "fig.colorbar(scatter_curve)\n",
    "    \n",
    "def drawOP():    \n",
    "    # 更新控制多边形图元数据\n",
    "    scatter_cp.set_offsets(np.array([cx,cy]).transpose())\n",
    "    plot_cp.set_data(cx,cy)\n",
    "    \n",
    "    # re-evaluate the curve\n",
    "    crvCtlPts = np.array([cx,cy])\n",
    "    crv.ctrlpts = crvCtlPts.transpose().tolist()\n",
    "    crv.evaluate() # 关键：在此处更新了曲线的数据\n",
    "    curvePts = np.array(crv.evalpts)\n",
    "    x = curvePts[:,0]\n",
    "    y = curvePts[:,1]\n",
    "    \n",
    "    # 更新曲线数据\n",
    "    scatter_curve.set_offsets(np.array([x,y]).transpose())\n",
    "    plot_curve.set_data(x,y)\n",
    "    \n",
    "    fig.canvas.draw_idle()\n",
    "    \n",
    "    \n",
    "drawOP()\n",
    "    \n",
    "def searchpoint(x,y,xdata,ydata,epison=10):\n",
    "    '''\n",
    "    用像素坐标而不是数据坐标来搜索。\n",
    "    '''\n",
    "    global ax\n",
    "    datalen = len(x)\n",
    "    ptid = None\n",
    "    for k in range(datalen):\n",
    "        datacoord = ax.transData.transform((x[k],y[k]))\n",
    "        ptcoord = ax.transData.transform((xdata,ydata))\n",
    "        if np.abs(datacoord[0]- ptcoord[0]) < epison and np.abs(datacoord[1] - ptcoord[1]) < epison:\n",
    "            ptid = k\n",
    "            break\n",
    "        \n",
    "    return ptid\n",
    "\n",
    "g_ptid = None\n",
    "def onclick(event):\n",
    "    print('%s click: button=%d, x=%d, y=%d, xdata=%f, ydata=%f' %\n",
    "          ('double' if event.dblclick else 'single', event.button,\n",
    "           event.x, event.y, event.xdata, event.ydata))\n",
    "    global g_ptid\n",
    "    g_ptid = searchpoint(cx,cy,event.xdata,event.ydata)\n",
    "\n",
    "cid = fig.canvas.mpl_connect('button_press_event', onclick)\n",
    "\n",
    "def onrelease(event):\n",
    "    print('%s release: button=%d, x=%d, y=%d, xdata=%f, ydata=%f' %\n",
    "          ('double' if event.dblclick else 'single', event.button,\n",
    "           event.x, event.y, event.xdata, event.ydata))\n",
    "    global g_ptid\n",
    "    if None != g_ptid:\n",
    "        print('ptid:',g_ptid)\n",
    "    else:\n",
    "        print('ptid is None')\n",
    "        \n",
    "    g_ptid = None\n",
    "    \n",
    "cid = fig.canvas.mpl_connect('button_release_event',onrelease)\n",
    "\n",
    "def updatedata(x,y,ptid,nx,ny):\n",
    "    x[ptid] = nx\n",
    "    y[ptid] = ny\n",
    "\n",
    "def onmousemove(event):\n",
    "    if event.button == None:\n",
    "        return\n",
    "    global g_ptid\n",
    "    if None == g_ptid:\n",
    "        return\n",
    "    \n",
    "    updatedata(cx,cy,g_ptid,event.xdata,event.ydata)\n",
    "    \n",
    "    drawOP()\n",
    "    \n",
    "fig.canvas.mpl_connect('motion_notify_event',onmousemove)"
   ],
   "outputs": [],
   "execution_count": null
  },
  {
   "cell_type": "code",
   "id": "fa56e43a-2c07-4ac2-8b15-5563f7720349",
   "metadata": {
    "ExecuteTime": {
     "end_time": "2025-03-10T11:29:22.678747Z",
     "start_time": "2025-03-10T11:29:22.678747Z"
    }
   },
   "source": [],
   "outputs": [],
   "execution_count": null
  }
 ],
 "metadata": {
  "kernelspec": {
   "display_name": "Python 3",
   "language": "python",
   "name": "python3"
  },
  "language_info": {
   "codemirror_mode": {
    "name": "ipython",
    "version": 3
   },
   "file_extension": ".py",
   "mimetype": "text/x-python",
   "name": "python",
   "nbconvert_exporter": "python",
   "pygments_lexer": "ipython3",
   "version": "3.8.8"
  }
 },
 "nbformat": 4,
 "nbformat_minor": 5
}
